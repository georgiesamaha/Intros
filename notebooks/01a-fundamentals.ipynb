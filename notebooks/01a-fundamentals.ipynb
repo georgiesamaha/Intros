{
 "cells": [
  {
   "cell_type": "markdown",
   "metadata": {},
   "source": [
    "# Python fundamentals\n",
    "\n",
    "<div class=\"questions\">\n",
    "\n",
    "### Questions\n",
    "\n",
    "- What can Python do?\n",
    "- How do I do it?\n",
    "</div>\n",
    "\n",
    "<div class=\"objectives\">\n",
    "  \n",
    "### Objectives\n",
    "\n",
    "- Learn the basic Python commands\n",
    "\n",
    "</div>\n",
    "\n",
    "\n",
    "Generally, cells like this are what to type into your Python shell/notebook/colab:"
   ]
  },
  {
   "cell_type": "code",
   "execution_count": 1,
   "metadata": {},
   "outputs": [
    {
     "data": {
      "text/plain": [
       "42"
      ]
     },
     "execution_count": 1,
     "metadata": {},
     "output_type": "execute_result"
    }
   ],
   "source": [
    "2+4*10"
   ]
  },
  {
   "cell_type": "markdown",
   "metadata": {},
   "source": [
    "### Functions\n",
    "These are bits of code you want to perhaps use many times, or keep self contained, or refer to at different points. They can take values as input and give values back (or not). \n"
   ]
  },
  {
   "cell_type": "code",
   "execution_count": 2,
   "metadata": {},
   "outputs": [],
   "source": [
    "#Declare the name of the function\n",
    "def add_numbers(x,y):\n",
    "    '''adds two numbers\n",
    "    usage: myaddition=addnumbers(x,y)\n",
    "    returns: z\n",
    "    inputs: x,y\n",
    "    x and y are two integers\n",
    "    z is the summation of x and y\n",
    "    '''\n",
    "    \n",
    "    z=x+y\n",
    "    \n",
    "    return(z)"
   ]
  },
  {
   "cell_type": "markdown",
   "metadata": {},
   "source": [
    "**Note the indentation** - Python forces your code to be nicely readable by using 'whitespace'/indentation to signify what chunks of code are related. You will see this more later, but generally you should try and write readable code and follow [style standards](https://www.python.org/dev/peps/pep-0008/)\n",
    "    \n",
    "Many functions have a header - formatted as a multiline comment with three '''. This hopefully will tell you about the function\n",
    "\n",
    "Anyway, let's run our function, now that we have initialised it!"
   ]
  },
  {
   "cell_type": "code",
   "execution_count": 3,
   "metadata": {},
   "outputs": [
    {
     "data": {
      "text/plain": [
       "3"
      ]
     },
     "execution_count": 3,
     "metadata": {},
     "output_type": "execute_result"
    }
   ],
   "source": [
    "add_numbers(1,2)"
   ]
  },
  {
   "cell_type": "markdown",
   "metadata": {},
   "source": [
    "<div class=\"challenge\">\n",
    "\n",
    "### Challenge \n",
    "\n",
    "Write a function to convert map scale. For example, on a 1:25,000 map (good for hiking!) the distance between two points is 15 cm. How far apart are these in real life? (3750 m).\n",
    "\n",
    "[Reminder: 15 cm * 25000 = 375000 cm = 3750 m]\n",
    "\n",
    "Your function should take as input two numbers:  the distance on the map (in cm) and the second number of the scale and, i.e. `calculate_distance(15, 25000)` should return 375000\n",
    "\n",
    "<details>\n",
    "<summary>Solution</summary>\n",
    "\n",
    "```python\n",
    "#Declare the name of the function\n",
    "def calculate_distance(distance_cm,scale):\n",
    "    '''calculates distance based on map and scale\n",
    "    returns: z\n",
    "    inputs: distance_cm,scale\n",
    "    distance_cm and scale are two integers\n",
    "    returns the product of distance_cm and scale\n",
    "    '''  \n",
    "    \n",
    "    return(distance_cm * scale)\n",
    "```\n",
    "</details>\n",
    "</div>"
   ]
  },
  {
   "cell_type": "code",
   "execution_count": 5,
   "metadata": {},
   "outputs": [
    {
     "data": {
      "image/png": "[encoded data removed]",
      "text/plain": [
       "<Figure size 432x288 with 1 Axes>"
      ]
     },
     "metadata": {
      "needs_background": "light"
     },
     "output_type": "display_data"
    }
   ],
   "source": [
    "#First we have to load some modules to do the work for us.\n",
    "#Modules are packages people have written so we do not have to re-invent everything!\n",
    "\n",
    "#The first is NUMerical PYthon. A very popular matrix, math, array and data manipulation library.\n",
    "import numpy as np\n",
    "\n",
    "#This is a library for making figures (originally based off Matlab plotting routines)\n",
    "#We use the alias 'plt' because we don't want to type out the whole name every time we reference it!\n",
    "import matplotlib.pyplot as plt \n",
    "\n",
    "# random code from matplotlib docs\n",
    "# Fixing random state for reproducibility\n",
    "np.random.seed(19680801)\n",
    "\n",
    "\n",
    "plt.rcdefaults()\n",
    "fig, ax = plt.subplots()\n",
    "\n",
    "# Example data\n",
    "people = ('Tom', 'Dick', 'Harry', 'Slim', 'Jim')\n",
    "y_pos = np.arange(len(people))\n",
    "performance = 3 + 10 * np.random.rand(len(people))\n",
    "error = np.random.rand(len(people))\n",
    "\n",
    "ax.barh(y_pos, performance, xerr=error, align='center')\n",
    "ax.set_yticks(y_pos, labels=people)\n",
    "ax.invert_yaxis()  # labels read top-to-bottom\n",
    "ax.set_xlabel('Performance')\n",
    "ax.set_title('How fast do you want to go today?')\n",
    "\n",
    "plt.show()"
   ]
  },
  {
   "cell_type": "markdown",
   "metadata": {},
   "source": [
    "<div class=\"keypoints\">\n",
    "\n",
    "### Key points\n",
    "\n",
    "- You can store things in Python in variables\n",
    "- Lists can be used to store objects of different types\n",
    "- Loops with for can be used to iterate over each object in a list\n",
    "- Functions are used to write (and debug) repetitive code once\n",
    "- Indexing\n",
    "\n",
    "</div>\n"
   ]
  }
 ],
 "metadata": {
  "kernelspec": {
   "display_name": "Python 3.9.13",
   "language": "python",
   "name": "python3"
  },
  "language_info": {
   "codemirror_mode": {
    "name": "ipython",
    "version": 3
   },
   "file_extension": ".py",
   "mimetype": "text/x-python",
   "name": "python",
   "nbconvert_exporter": "python",
   "pygments_lexer": "ipython3",
   "version": "3.9.13"
  },
  "vscode": {
   "interpreter": {
    "hash": "c35fc3d4eaeae6724c02ab47fba1a0717379842724dab0369b0b3a57f9518d05"
   }
  }
 },
 "nbformat": 4,
 "nbformat_minor": 4
}
